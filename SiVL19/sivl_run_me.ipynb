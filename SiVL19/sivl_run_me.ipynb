{
 "nbformat": 4,
 "nbformat_minor": 0,
 "metadata": {
  "colab": {
   "name": "sivl_run_me.ipynb",
   "version": "0.3.2",
   "provenance": [],
   "collapsed_sections": []
  },
  "kernelspec": {
   "name": "pycharm-b231bb2d",
   "language": "python",
   "display_name": "PyCharm (sivl_run_me.ipynb)"
  },
  "accelerator": "GPU",
  "pycharm": {
   "stem_cell": {
    "cell_type": "raw",
    "source": [],
    "metadata": {
     "collapsed": false
    }
   }
  }
 },
 "cells": [
  {
   "cell_type": "code",
   "metadata": {
    "id": "fg2tbx4v6ZTV",
    "colab_type": "code",
    "colab": {}
   },
   "source": [
    "!git clone https://github.com/christiansafka/img2vec.git\n",
    "!git clone https://github.com/nlpaueb/bio_image_caption.git"
   ],
   "execution_count": 0,
   "outputs": []
  },
  {
   "cell_type": "code",
   "metadata": {
    "id": "2XhssJld49SY",
    "colab_type": "code",
    "colab": {}
   },
   "source": [
    "import bio_image_caption.SiVL19.create_vocabulary as vocab\n",
    "import bio_image_caption.SiVL19.frequency_baseline as freq\n",
    "import bio_image_caption.SiVL19.onenn_baseline as onenn\n",
    "import bio_image_caption.SiVL19.wmd_evaluation as wmd\n",
    "import bio_image_caption.SiVL19.create_json_files as json_file\n",
    "import os"
   ],
   "execution_count": 0,
   "outputs": []
  },
  {
   "cell_type": "code",
   "metadata": {
    "id": "pczKBSTS2df1",
    "colab_type": "code",
    "colab": {}
   },
   "source": [
    "# create the dataset folder, download data and split to train and test\n",
    "!python bio_image_caption/SiVL19/get_iu_xray.py"
   ],
   "execution_count": 0,
   "outputs": []
  },
  {
   "cell_type": "code",
   "metadata": {
    "id": "4oE-RjmT5eiU",
    "colab_type": "code",
    "colab": {}
   },
   "source": [
    "# define the dataset folder\n",
    "dataset_folder = \"iu_xray/\"\n",
    "# define the sub folder that contains the images\n",
    "images_path = os.path.join(dataset_folder, \"iu_xray_images\")"
   ],
   "execution_count": 0,
   "outputs": []
  },
  {
   "cell_type": "code",
   "metadata": {
    "id": "nHkgL5g15u2i",
    "colab_type": "code",
    "colab": {}
   },
   "source": [
    "# get statistics and create vocabulary for the dataset\n",
    "print(\"Processing IU X-ray:\")\n",
    "mean_length = vocab.create_vocabulary(dataset_folder)"
   ],
   "execution_count": 0,
   "outputs": []
  },
  {
   "cell_type": "code",
   "metadata": {
    "id": "lzJsDdRS53Jz",
    "colab_type": "code",
    "colab": {}
   },
   "source": [
    "print(\"Frequency baseline for IU X-ray:\")\n",
    "freq.most_frequent(dataset_folder, mean_length)"
   ],
   "execution_count": 0,
   "outputs": []
  },
  {
   "cell_type": "code",
   "metadata": {
    "id": "D1n-FeK39K46",
    "colab_type": "code",
    "colab": {}
   },
   "source": [
    "print(\"1NN baseline for IU X-ray:\")\n",
    "onenn.most_similar(dataset_folder, images_path, cuda=True)"
   ],
   "execution_count": 0,
   "outputs": []
  },
  {
   "cell_type": "code",
   "metadata": {
    "id": "vwjxJHpQ7GS1",
    "colab_type": "code",
    "colab": {}
   },
   "source": [
    "# download pre-trained word embeddings\n",
    "!wget https://archive.org/download/pubmed2018_w2v_200D.tar/pubmed2018_w2v_200D.tar.gz\n",
    "# unzip word embeddings\n",
    "!tar xvzf pubmed2018_w2v_200D.tar.gz"
   ],
   "execution_count": 0,
   "outputs": []
  },
  {
   "cell_type": "code",
   "metadata": {
    "id": "-VuecEVdd1qF",
    "colab_type": "code",
    "colab": {}
   },
   "source": [
    "# define pretrained embeddings path\n",
    "embeddings_path = \"pubmed2018_w2v_200D/pubmed2018_w2v_200D.bin\"\n",
    "\n",
    "# evaluate results with wmd\n",
    "print(\"IU X-ray evaluation:\")\n",
    "wmd.evaluate(dataset_folder, embeddings_path)"
   ],
   "execution_count": 0,
   "outputs": []
  },
  {
   "cell_type": "code",
   "metadata": {
    "id": "vYJmNOTsHquQ",
    "colab_type": "code",
    "colab": {}
   },
   "source": [
    "# create json files with the test images and the results of each baseline to use for MS COCO evaluation\n",
    "json_file.create_jsons(dataset_folder)"
   ],
   "execution_count": 0,
   "outputs": []
  }
 ]
}
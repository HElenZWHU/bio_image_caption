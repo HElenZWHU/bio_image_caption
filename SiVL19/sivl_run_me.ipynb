{
 "nbformat": 4,
 "nbformat_minor": 0,
 "metadata": {
  "colab": {
   "name": "sivl_run_me.ipynb",
   "provenance": []
  },
  "kernelspec": {
   "name": "python3",
   "language": "python",
   "display_name": "Python 3"
  },
  "pycharm": {
   "stem_cell": {
    "cell_type": "raw",
    "source": [],
    "metadata": {
     "collapsed": false
    }
   }
  }
 },
 "cells": [
  {
   "cell_type": "code",
   "metadata": {
    "id": "ZrT2sv8d8BJC",
    "colab_type": "code",
    "colab": {}
   },
   "source": [
    "!git clone https://github.com/christiansafka/img2vec.git\n",
    "!git clone https://github.com/nlpaueb/bio_image_caption.git"
   ],
   "execution_count": 0,
   "outputs": []
  },
  {
   "cell_type": "code",
   "metadata": {
    "id": "j_vOGBD38K0q",
    "colab_type": "code",
    "colab": {}
   },
   "source": [
    "import bio_image_caption.SiVL19.create_vocabulary as vocab\n",
    "import bio_image_caption.SiVL19.frequency_baseline as freq\n",
    "import bio_image_caption.SiVL19.onenn_baseline as onenn\n",
    "import bio_image_caption.SiVL19.wmd_evaluation as wmd\n",
    "import bio_image_caption.SiVL19.coco_evaluation as coco_eval\n",
    "import os\n",
    "import pandas as pd"
   ],
   "execution_count": 0,
   "outputs": []
  },
  {
   "cell_type": "code",
   "metadata": {
    "id": "6WlqFeiJ8OYc",
    "colab_type": "code",
    "colab": {}
   },
   "source": [
    "# Create the dataset folder, download data and split to train and test\n",
    "!python bio_image_caption/SiVL19/get_iu_xray.py"
   ],
   "execution_count": 0,
   "outputs": []
  },
  {
   "cell_type": "code",
   "metadata": {
    "id": "VSGAlznE9Lo0",
    "colab_type": "code",
    "colab": {}
   },
   "source": [
    "# Define the dataset folder and train and test files\n",
    "dataset_path = \"iu_xray/\"\n",
    "train_path = os.path.join(dataset_path, \"train_images.tsv\")\n",
    "test_path = os.path.join(dataset_path, \"test_images.tsv\")\n",
    "\n",
    "# Define the folder in which to save the results\n",
    "!mkdir \"iu_xray_results\"\n",
    "results_path = \"iu_xray_results\"\n",
    "\n",
    "# Define the sub folder that contains the images\n",
    "images_path = os.path.join(dataset_path, \"iu_xray_images\")"
   ],
   "execution_count": 0,
   "outputs": []
  },
  {
   "cell_type": "code",
   "metadata": {
    "id": "GQ71_5g89PIM",
    "colab_type": "code",
    "colab": {}
   },
   "source": [
    "# Get statistics and create vocabulary for the dataset\n",
    "print(\"Processing IU X-ray:\")\n",
    "mean_length = vocab.create_vocabulary(train_path, results_path)"
   ],
   "execution_count": 0,
   "outputs": []
  },
  {
   "cell_type": "code",
   "metadata": {
    "id": "XCj_NuMn9mP2",
    "colab_type": "code",
    "colab": {}
   },
   "source": [
    "# Run the frequency baseline for the dataset\n",
    "print(\"Frequency baseline:\")\n",
    "freq_results = freq.most_frequent(train_path, test_path, results_path, mean_length)"
   ],
   "execution_count": 0,
   "outputs": []
  },
  {
   "cell_type": "code",
   "metadata": {
    "id": "d5ohIwAj94cC",
    "colab_type": "code",
    "colab": {}
   },
   "source": [
    "# Run the onenn baseline for the dataset\n",
    "\n",
    "# If a GPU is available set cuda to True to run the 1NN baseline\n",
    "cuda = True\n",
    "\t\n",
    "print(\"1NN baseline:\")\n",
    "onenn_results = onenn.most_similar(train_path, test_path, images_path, results_path, cuda)"
   ],
   "execution_count": 0,
   "outputs": []
  },
  {
   "cell_type": "code",
   "metadata": {
    "id": "bTQv8XrS-qvE",
    "colab_type": "code",
    "colab": {}
   },
   "source": [
    "# Download pre-trained word embeddings\n",
    "!wget https://archive.org/download/pubmed2018_w2v_200D.tar/pubmed2018_w2v_200D.tar.gz\n",
    "# Unzip word embeddings\n",
    "!tar xvzf pubmed2018_w2v_200D.tar.gz"
   ],
   "execution_count": 0,
   "outputs": []
  },
  {
   "cell_type": "code",
   "metadata": {
    "id": "6Rw85t1E-1G9",
    "colab_type": "code",
    "colab": {}
   },
   "source": [
    "# Evaluation\n",
    "\n",
    "# Load gold test image_id-caption pairs to a dictionary\n",
    "test_data = pd.read_csv(test_path, sep=\"\\t\", header=None, names=[\"image_ids\", \"captions\"])\n",
    "gold = dict(zip(test_data.image_ids, test_data.captions))\n",
    "\n",
    "# Define pretrained embeddings path\n",
    "embeddings_path = \"pubmed2018_w2v_200D/pubmed2018_w2v_200D.bin\"\n",
    "\n",
    "# WMD evaluation\n",
    "print(\"WMD evaluation for frequency baseline:\")\n",
    "wmd.compute_wmd(gold, freq_results, embeddings_path)\n",
    "print(\"WMD evaluation for onenn baseline:\")\n",
    "wmd.compute_wmd(gold, onenn_results, embeddings_path)\n",
    "\n",
    "# MSCOCO evaluation\n",
    "print(\"MSCOCO evaluation for frequency baseline:\")\n",
    "coco_eval.compute_scores(gold, freq_results)\n",
    "print(\"MSCOCO evaluation for onenn baseline:\")\n",
    "coco_eval.compute_scores(gold, onenn_results)"
   ],
   "execution_count": 0,
   "outputs": []
  }
 ]
}